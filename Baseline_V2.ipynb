{
  "nbformat": 4,
  "nbformat_minor": 0,
  "metadata": {
    "colab": {
      "name": "Baseline V2.ipynb",
      "provenance": [],
      "authorship_tag": "ABX9TyOAPfDlwl7il1+xXWgRGrKK",
      "include_colab_link": true
    },
    "kernelspec": {
      "name": "python3",
      "display_name": "Python 3"
    }
  },
  "cells": [
    {
      "cell_type": "markdown",
      "metadata": {
        "id": "view-in-github",
        "colab_type": "text"
      },
      "source": [
        "<a href=\"https://colab.research.google.com/github/omkarpat/BotBuilder-Location/blob/master/Baseline_V2.ipynb\" target=\"_parent\"><img src=\"https://colab.research.google.com/assets/colab-badge.svg\" alt=\"Open In Colab\"/></a>"
      ]
    },
    {
      "cell_type": "code",
      "metadata": {
        "id": "8_sCm971u4dS",
        "colab_type": "code",
        "outputId": "00b12cb6-0a09-45f0-fcfe-00e037ffb3cc",
        "colab": {
          "base_uri": "https://localhost:8080/",
          "height": 143
        }
      },
      "source": [
        "# Colab settings/mount\n",
        "from google.colab import drive\n",
        "drive.mount('/content/gdrive')\n",
        "%cd gdrive/My\\ Drive/CSE\\ 240/Project/Data/spectrogram_images/"
      ],
      "execution_count": 0,
      "outputs": [
        {
          "output_type": "stream",
          "text": [
            "Go to this URL in a browser: https://accounts.google.com/o/oauth2/auth?client_id=947318989803-6bn6qk8qdgf4n4g3pfee6491hc0brc4i.apps.googleusercontent.com&redirect_uri=urn%3aietf%3awg%3aoauth%3a2.0%3aoob&response_type=code&scope=email%20https%3a%2f%2fwww.googleapis.com%2fauth%2fdocs.test%20https%3a%2f%2fwww.googleapis.com%2fauth%2fdrive%20https%3a%2f%2fwww.googleapis.com%2fauth%2fdrive.photos.readonly%20https%3a%2f%2fwww.googleapis.com%2fauth%2fpeopleapi.readonly\n",
            "\n",
            "Enter your authorization code:\n",
            "··········\n",
            "Mounted at /content/gdrive\n",
            "/content/gdrive/My Drive/CSE 240/Project/Data/spectrogram_images\n"
          ],
          "name": "stdout"
        }
      ]
    },
    {
      "cell_type": "code",
      "metadata": {
        "id": "eEFSwnTevLwd",
        "colab_type": "code",
        "colab": {}
      },
      "source": [
        "import os\n",
        "import numpy as np\n",
        "import pandas as pd\n",
        "\n",
        "from sklearn.model_selection import train_test_split\n",
        "\n",
        "from keras import optimizers\n",
        "from keras.callbacks import ModelCheckpoint\n",
        "from keras.models import Sequential\n",
        "from keras.layers import Conv2D, Dense, Flatten, MaxPooling2D, SeparableConv2D, MaxPooling3D, Conv3D, DepthwiseConv2D\n",
        "from keras.models import model_from_json"
      ],
      "execution_count": 0,
      "outputs": []
    },
    {
      "cell_type": "code",
      "metadata": {
        "id": "HV0KFC7xvTHM",
        "colab_type": "code",
        "outputId": "58449abb-932b-48f1-d586-cc224386681a",
        "colab": {
          "base_uri": "https://localhost:8080/",
          "height": 228
        }
      },
      "source": [
        "base_path = \".\"\n",
        "concentration_data_array = None\n",
        "relaxed_data_array = None\n",
        "#relaxed_data_array = np.load(\"relaxed_array_updated_spectrograms_final.npy\")\n",
        "for filename in os.listdir(base_path):\n",
        "  if \"concentration_array_updated_spectrograms\" in filename and \"final\" not in filename:\n",
        "    print(filename)\n",
        "    concentration_data_array = np.concatenate((concentration_data_array, np.load(filename))) if concentration_data_array is not None else np.load(filename)\n",
        "  if \"relaxed_array_updated_spectrograms\" in filename:\n",
        "    print(filename)\n",
        "    relaxed_data_array = np.concatenate((relaxed_data_array, np.load(filename))) if relaxed_data_array is not None else np.load(filename)"
      ],
      "execution_count": 0,
      "outputs": [
        {
          "output_type": "stream",
          "text": [
            "concentration_array_updated_spectrograms_1.npy\n",
            "concentration_array_updated_spectrograms_2.npy\n",
            "concentration_array_updated_spectrograms_3.npy\n",
            "concentration_array_updated_spectrograms_4.npy\n",
            "concentration_array_updated_spectrograms_5.npy\n",
            "concentration_array_updated_spectrograms_6.npy\n",
            "relaxed_array_updated_spectrograms_1.npy\n",
            "relaxed_array_updated_spectrograms_2.npy\n",
            "relaxed_array_updated_spectrograms_3.npy\n",
            "relaxed_array_updated_spectrograms_4.npy\n",
            "relaxed_array_updated_spectrograms_5.npy\n",
            "relaxed_array_updated_spectrograms_final.npy\n"
          ],
          "name": "stdout"
        }
      ]
    },
    {
      "cell_type": "code",
      "metadata": {
        "id": "MND22X5Cxm2c",
        "colab_type": "code",
        "outputId": "f6f13532-252d-4996-db26-6bd21f64c39b",
        "colab": {
          "base_uri": "https://localhost:8080/",
          "height": 35
        }
      },
      "source": [
        "print(concentration_data_array.shape, relaxed_data_array.shape)"
      ],
      "execution_count": 0,
      "outputs": [
        {
          "output_type": "stream",
          "text": [
            "(2160, 29, 43, 42) (2124, 29, 43, 42)\n"
          ],
          "name": "stdout"
        }
      ]
    },
    {
      "cell_type": "code",
      "metadata": {
        "id": "6qrdEwRUymm0",
        "colab_type": "code",
        "colab": {}
      },
      "source": [
        "X = np.concatenate((relaxed_data_array, concentration_data_array))\n",
        "relaxed_data_array, concentration_data_array = None, None"
      ],
      "execution_count": 0,
      "outputs": []
    },
    {
      "cell_type": "code",
      "metadata": {
        "id": "JWjZwiYLypAV",
        "colab_type": "code",
        "outputId": "673bb4e6-6640-4bfc-fd0c-3750f4d2640f",
        "colab": {
          "base_uri": "https://localhost:8080/",
          "height": 35
        }
      },
      "source": [
        "Y = np.concatenate((np.zeros((2160,1)),np.ones((2124,1))))\n",
        "print(X.shape, Y.shape)"
      ],
      "execution_count": 0,
      "outputs": [
        {
          "output_type": "stream",
          "text": [
            "(4284, 29, 43, 42) (4284, 1)\n"
          ],
          "name": "stdout"
        }
      ]
    },
    {
      "cell_type": "code",
      "metadata": {
        "id": "ZaQQIZAGy2ej",
        "colab_type": "code",
        "outputId": "a12bdb0b-1b44-45f8-d0aa-9470639661bd",
        "colab": {
          "base_uri": "https://localhost:8080/",
          "height": 35
        }
      },
      "source": [
        "X_train, X_test, y_train, y_test = train_test_split(X, Y, test_size=0.15, random_state=42)\n",
        "X, Y = None, None\n",
        "X_train, X_valid, y_train, y_valid = train_test_split(X_train, y_train, test_size=0.15, random_state=42)\n",
        "print(X_train.shape, X_test.shape, X_valid.shape, y_train.shape, y_test.shape, y_valid.shape)"
      ],
      "execution_count": 0,
      "outputs": [
        {
          "output_type": "stream",
          "text": [
            "(3094, 29, 43, 42) (643, 29, 43, 42) (547, 29, 43, 42) (3094, 1) (643, 1) (547, 1)\n"
          ],
          "name": "stdout"
        }
      ]
    },
    {
      "cell_type": "code",
      "metadata": {
        "id": "sVt79b4tzKrq",
        "colab_type": "code",
        "outputId": "bb3e0ec4-f7fc-4c22-a289-9894f7f2ecb4",
        "colab": {
          "base_uri": "https://localhost:8080/",
          "height": 1000
        }
      },
      "source": [
        "model2 = Sequential()\n",
        "model2.add(Conv2D(64, kernel_size=5, strides=(1,1), padding='valid', activation='relu', input_shape=(29, 43, 42)))\n",
        "model2.add(Conv2D(128, kernel_size=3, activation='relu'))\n",
        "model2.add(MaxPooling2D(pool_size=(2, 2)))\n",
        "model2.add(Conv2D(64, kernel_size=5, strides=(1,1), padding='valid', activation='relu'))\n",
        "model2.add(Conv2D(128, kernel_size=3, activation='relu'))\n",
        "model2.add(MaxPooling2D(pool_size=(2, 2)))\n",
        "model2.add(Flatten())\n",
        "model2.add(Dense(100, activation='relu'))\n",
        "model2.add(Dense(50, activation='relu'))\n",
        "model2.add(Dense(1, activation='sigmoid'))\n",
        "sgd = optimizers.SGD(lr=0.000001, momentum=0.7, decay=1e-6)\n",
        "model2.compile(optimizer=sgd, loss='binary_crossentropy', metrics=['accuracy'])\n",
        "# checkpoint\n",
        "filepath=\"model2-weights-improvement-{epoch:02d}.hdf5\"\n",
        "checkpoint = ModelCheckpoint(filepath, monitor='acc', verbose=1, save_best_only=True, mode='max')\n",
        "callbacks_list = [checkpoint]\n",
        "model2.fit(X_train, y_train, validation_data=(X_valid, y_valid), epochs=50, batch_size=32, callbacks=callbacks_list, shuffle=True)\n",
        "metrics = model2.evaluate(X_test,y_test)\n",
        "print(metrics)\n",
        "model2_json = model2.to_json()\n",
        "with open(\"model.json\", \"w\") as json_file:\n",
        "    json_file.write(model2_json)\n",
        "# serialize weights to HDF5\n",
        "model2.save_weights(\"model.h5\")\n",
        "print(\"Saved model 2 to disk\")"
      ],
      "execution_count": 0,
      "outputs": [
        {
          "output_type": "stream",
          "text": [
            "Train on 3094 samples, validate on 547 samples\n",
            "Epoch 1/50\n",
            "3094/3094 [==============================] - 67s 22ms/step - loss: 5.9186 - acc: 0.5094 - val_loss: 2.7167 - val_acc: 0.4826\n",
            "\n",
            "Epoch 00001: acc improved from -inf to 0.50937, saving model to model2-weights-improvement-01.hdf5\n",
            "Epoch 2/50\n",
            "3094/3094 [==============================] - 67s 22ms/step - loss: 2.0566 - acc: 0.5068 - val_loss: 1.7516 - val_acc: 0.5046\n",
            "\n",
            "Epoch 00002: acc did not improve from 0.50937\n",
            "Epoch 3/50\n",
            "3094/3094 [==============================] - 66s 21ms/step - loss: 1.4566 - acc: 0.5301 - val_loss: 1.5290 - val_acc: 0.4954\n",
            "\n",
            "Epoch 00003: acc improved from 0.50937 to 0.53006, saving model to model2-weights-improvement-03.hdf5\n",
            "Epoch 4/50\n",
            "3094/3094 [==============================] - 69s 22ms/step - loss: 1.3135 - acc: 0.5271 - val_loss: 1.4379 - val_acc: 0.5009\n",
            "\n",
            "Epoch 00004: acc did not improve from 0.53006\n",
            "Epoch 5/50\n",
            "3094/3094 [==============================] - 68s 22ms/step - loss: 1.2414 - acc: 0.5330 - val_loss: 1.4039 - val_acc: 0.4918\n",
            "\n",
            "Epoch 00005: acc improved from 0.53006 to 0.53297, saving model to model2-weights-improvement-05.hdf5\n",
            "Epoch 6/50\n",
            "3094/3094 [==============================] - 69s 22ms/step - loss: 1.2027 - acc: 0.5414 - val_loss: 1.3782 - val_acc: 0.5192\n",
            "\n",
            "Epoch 00006: acc improved from 0.53297 to 0.54137, saving model to model2-weights-improvement-06.hdf5\n",
            "Epoch 7/50\n",
            "3094/3094 [==============================] - 68s 22ms/step - loss: 1.1694 - acc: 0.5417 - val_loss: 1.3230 - val_acc: 0.5119\n",
            "\n",
            "Epoch 00007: acc improved from 0.54137 to 0.54169, saving model to model2-weights-improvement-07.hdf5\n",
            "Epoch 8/50\n",
            "3094/3094 [==============================] - 67s 22ms/step - loss: 1.1326 - acc: 0.5443 - val_loss: 1.3009 - val_acc: 0.5101\n",
            "\n",
            "Epoch 00008: acc improved from 0.54169 to 0.54428, saving model to model2-weights-improvement-08.hdf5\n",
            "Epoch 9/50\n",
            "3094/3094 [==============================] - 69s 22ms/step - loss: 1.1096 - acc: 0.5491 - val_loss: 1.2764 - val_acc: 0.5210\n",
            "\n",
            "Epoch 00009: acc improved from 0.54428 to 0.54913, saving model to model2-weights-improvement-09.hdf5\n",
            "Epoch 10/50\n",
            "3094/3094 [==============================] - 68s 22ms/step - loss: 1.0845 - acc: 0.5546 - val_loss: 1.3095 - val_acc: 0.5302\n",
            "\n",
            "Epoch 00010: acc improved from 0.54913 to 0.55462, saving model to model2-weights-improvement-10.hdf5\n",
            "Epoch 11/50\n",
            "3094/3094 [==============================] - 69s 22ms/step - loss: 1.0731 - acc: 0.5595 - val_loss: 1.2518 - val_acc: 0.5210\n",
            "\n",
            "Epoch 00011: acc improved from 0.55462 to 0.55947, saving model to model2-weights-improvement-11.hdf5\n",
            "Epoch 12/50\n",
            "3094/3094 [==============================] - 68s 22ms/step - loss: 1.0544 - acc: 0.5537 - val_loss: 1.2377 - val_acc: 0.5046\n",
            "\n",
            "Epoch 00012: acc did not improve from 0.55947\n",
            "Epoch 13/50\n",
            "3094/3094 [==============================] - 69s 22ms/step - loss: 1.0398 - acc: 0.5556 - val_loss: 1.2540 - val_acc: 0.5229\n",
            "\n",
            "Epoch 00013: acc did not improve from 0.55947\n",
            "Epoch 14/50\n",
            "3094/3094 [==============================] - 69s 22ms/step - loss: 1.0220 - acc: 0.5701 - val_loss: 1.2212 - val_acc: 0.5101\n",
            "\n",
            "Epoch 00014: acc improved from 0.55947 to 0.57014, saving model to model2-weights-improvement-14.hdf5\n",
            "Epoch 15/50\n",
            "3094/3094 [==============================] - 67s 22ms/step - loss: 1.0107 - acc: 0.5637 - val_loss: 1.2123 - val_acc: 0.5101\n",
            "\n",
            "Epoch 00015: acc did not improve from 0.57014\n",
            "Epoch 16/50\n",
            "3094/3094 [==============================] - 66s 21ms/step - loss: 0.9977 - acc: 0.5679 - val_loss: 1.2531 - val_acc: 0.5155\n",
            "\n",
            "Epoch 00016: acc did not improve from 0.57014\n",
            "Epoch 17/50\n",
            "3094/3094 [==============================] - 66s 21ms/step - loss: 0.9893 - acc: 0.5692 - val_loss: 1.1966 - val_acc: 0.5046\n",
            "\n",
            "Epoch 00017: acc did not improve from 0.57014\n",
            "Epoch 18/50\n",
            "3094/3094 [==============================] - 67s 22ms/step - loss: 0.9782 - acc: 0.5721 - val_loss: 1.1923 - val_acc: 0.5247\n",
            "\n",
            "Epoch 00018: acc improved from 0.57014 to 0.57207, saving model to model2-weights-improvement-18.hdf5\n",
            "Epoch 19/50\n",
            "3094/3094 [==============================] - 65s 21ms/step - loss: 0.9682 - acc: 0.5656 - val_loss: 1.1828 - val_acc: 0.5174\n",
            "\n",
            "Epoch 00019: acc did not improve from 0.57207\n",
            "Epoch 20/50\n",
            "3094/3094 [==============================] - 65s 21ms/step - loss: 0.9661 - acc: 0.5714 - val_loss: 1.2062 - val_acc: 0.5265\n",
            "\n",
            "Epoch 00020: acc did not improve from 0.57207\n",
            "Epoch 21/50\n",
            "3094/3094 [==============================] - 65s 21ms/step - loss: 0.9474 - acc: 0.5776 - val_loss: 1.1847 - val_acc: 0.5101\n",
            "\n",
            "Epoch 00021: acc improved from 0.57207 to 0.57757, saving model to model2-weights-improvement-21.hdf5\n",
            "Epoch 22/50\n",
            "3094/3094 [==============================] - 66s 21ms/step - loss: 0.9410 - acc: 0.5779 - val_loss: 1.1830 - val_acc: 0.5210\n",
            "\n",
            "Epoch 00022: acc improved from 0.57757 to 0.57789, saving model to model2-weights-improvement-22.hdf5\n",
            "Epoch 23/50\n",
            "3094/3094 [==============================] - 66s 21ms/step - loss: 0.9345 - acc: 0.5760 - val_loss: 1.2115 - val_acc: 0.5137\n",
            "\n",
            "Epoch 00023: acc did not improve from 0.57789\n",
            "Epoch 24/50\n",
            "3094/3094 [==============================] - 65s 21ms/step - loss: 0.9273 - acc: 0.5827 - val_loss: 1.1720 - val_acc: 0.5247\n",
            "\n",
            "Epoch 00024: acc improved from 0.57789 to 0.58274, saving model to model2-weights-improvement-24.hdf5\n",
            "Epoch 25/50\n",
            "3094/3094 [==============================] - 66s 21ms/step - loss: 0.9193 - acc: 0.5879 - val_loss: 1.1703 - val_acc: 0.5302\n",
            "\n",
            "Epoch 00025: acc improved from 0.58274 to 0.58791, saving model to model2-weights-improvement-25.hdf5\n",
            "Epoch 26/50\n",
            "3094/3094 [==============================] - 66s 21ms/step - loss: 0.9087 - acc: 0.5869 - val_loss: 1.1716 - val_acc: 0.5229\n",
            "\n",
            "Epoch 00026: acc did not improve from 0.58791\n",
            "Epoch 27/50\n",
            "3094/3094 [==============================] - 67s 22ms/step - loss: 0.9039 - acc: 0.5931 - val_loss: 1.1614 - val_acc: 0.5192\n",
            "\n",
            "Epoch 00027: acc improved from 0.58791 to 0.59308, saving model to model2-weights-improvement-27.hdf5\n",
            "Epoch 28/50\n",
            "3094/3094 [==============================] - 66s 21ms/step - loss: 0.8980 - acc: 0.5863 - val_loss: 1.1737 - val_acc: 0.5356\n",
            "\n",
            "Epoch 00028: acc did not improve from 0.59308\n",
            "Epoch 29/50\n",
            "3094/3094 [==============================] - 66s 21ms/step - loss: 0.8857 - acc: 0.5941 - val_loss: 1.1695 - val_acc: 0.5320\n",
            "\n",
            "Epoch 00029: acc improved from 0.59308 to 0.59405, saving model to model2-weights-improvement-29.hdf5\n",
            "Epoch 30/50\n",
            "3094/3094 [==============================] - 66s 21ms/step - loss: 0.8806 - acc: 0.5902 - val_loss: 1.1722 - val_acc: 0.5229\n",
            "\n",
            "Epoch 00030: acc did not improve from 0.59405\n",
            "Epoch 31/50\n",
            "3094/3094 [==============================] - 66s 21ms/step - loss: 0.8754 - acc: 0.5983 - val_loss: 1.1466 - val_acc: 0.5155\n",
            "\n",
            "Epoch 00031: acc improved from 0.59405 to 0.59825, saving model to model2-weights-improvement-31.hdf5\n",
            "Epoch 32/50\n",
            "3094/3094 [==============================] - 66s 21ms/step - loss: 0.8685 - acc: 0.5902 - val_loss: 1.1528 - val_acc: 0.5119\n",
            "\n",
            "Epoch 00032: acc did not improve from 0.59825\n",
            "Epoch 33/50\n",
            "3094/3094 [==============================] - 66s 21ms/step - loss: 0.8672 - acc: 0.6012 - val_loss: 1.1503 - val_acc: 0.5247\n",
            "\n",
            "Epoch 00033: acc improved from 0.59825 to 0.60116, saving model to model2-weights-improvement-33.hdf5\n",
            "Epoch 34/50\n",
            "3094/3094 [==============================] - 68s 22ms/step - loss: 0.8565 - acc: 0.6041 - val_loss: 1.1507 - val_acc: 0.5302\n",
            "\n",
            "Epoch 00034: acc improved from 0.60116 to 0.60407, saving model to model2-weights-improvement-34.hdf5\n",
            "Epoch 35/50\n",
            "3094/3094 [==============================] - 68s 22ms/step - loss: 0.8535 - acc: 0.6021 - val_loss: 1.1449 - val_acc: 0.5174\n",
            "\n",
            "Epoch 00035: acc did not improve from 0.60407\n",
            "Epoch 36/50\n",
            "3094/3094 [==============================] - 73s 23ms/step - loss: 0.8468 - acc: 0.6057 - val_loss: 1.1658 - val_acc: 0.5009\n",
            "\n",
            "Epoch 00036: acc improved from 0.60407 to 0.60569, saving model to model2-weights-improvement-36.hdf5\n",
            "Epoch 37/50\n",
            "3094/3094 [==============================] - 70s 23ms/step - loss: 0.8468 - acc: 0.5966 - val_loss: 1.1418 - val_acc: 0.5302\n",
            "\n",
            "Epoch 00037: acc did not improve from 0.60569\n",
            "Epoch 38/50\n",
            "3094/3094 [==============================] - 67s 22ms/step - loss: 0.8353 - acc: 0.6063 - val_loss: 1.1385 - val_acc: 0.5375\n",
            "\n",
            "Epoch 00038: acc improved from 0.60569 to 0.60633, saving model to model2-weights-improvement-38.hdf5\n",
            "Epoch 39/50\n",
            "3094/3094 [==============================] - 69s 22ms/step - loss: 0.8321 - acc: 0.6018 - val_loss: 1.1383 - val_acc: 0.5283\n",
            "\n",
            "Epoch 00039: acc did not improve from 0.60633\n",
            "Epoch 40/50\n",
            "1344/3094 [============>.................] - ETA: 36s - loss: 0.8183 - acc: 0.6228"
          ],
          "name": "stdout"
        }
      ]
    },
    {
      "cell_type": "code",
      "metadata": {
        "id": "FKVNT-IgIyuB",
        "colab_type": "code",
        "colab": {
          "base_uri": "https://localhost:8080/",
          "height": 52
        },
        "outputId": "3215af5a-77a3-489a-dc60-74f999a93a14"
      },
      "source": [
        ""
      ],
      "execution_count": 46,
      "outputs": [
        {
          "output_type": "stream",
          "text": [
            "643/643 [==============================] - 4s 6ms/step\n",
            "[3.35662171462461, 0.5365474339962747]\n"
          ],
          "name": "stdout"
        }
      ]
    },
    {
      "cell_type": "code",
      "metadata": {
        "id": "IfxN2cX3ItMI",
        "colab_type": "code",
        "colab": {
          "base_uri": "https://localhost:8080/",
          "height": 35
        },
        "outputId": "bcc2088d-657a-4860-c001-80d6472c1e77"
      },
      "source": [
        ""
      ],
      "execution_count": 49,
      "outputs": [
        {
          "output_type": "stream",
          "text": [
            "Saved model 2 to disk\n"
          ],
          "name": "stdout"
        }
      ]
    },
    {
      "cell_type": "code",
      "metadata": {
        "id": "BvlFhrdphxaF",
        "colab_type": "code",
        "colab": {
          "base_uri": "https://localhost:8080/",
          "height": 52
        },
        "outputId": "67b8bceb-8414-4ffc-83d2-33e6d4bc21d6"
      },
      "source": [
        "# load json and create model\n",
        "json_file = open('model2.json', 'r')\n",
        "loaded_model_json = json_file.read()\n",
        "json_file.close()\n",
        "loaded_model = model_from_json(loaded_model_json)\n",
        "# load weights into new model\n",
        "loaded_model.load_weights(\"model2.h5\")\n",
        "print(\"Loaded model 2 from disk\")\n",
        "\n",
        "# evaluate loaded model on test data\n",
        "loaded_model.compile(loss='binary_crossentropy', optimizer='rmsprop', metrics=['accuracy'])\n",
        "score = loaded_model.evaluate(X_test,y_test, verbose=0)\n",
        "print(\"%s: %.2f%%\" % (loaded_model.metrics_names[1], score[1]*100))"
      ],
      "execution_count": 52,
      "outputs": [
        {
          "output_type": "stream",
          "text": [
            "Loaded model 2 from disk\n",
            "acc: 53.65%\n"
          ],
          "name": "stdout"
        }
      ]
    }
  ]
}