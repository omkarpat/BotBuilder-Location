{
  "nbformat": 4,
  "nbformat_minor": 0,
  "metadata": {
    "colab": {
      "name": "Baseline V2.ipynb",
      "provenance": [],
      "authorship_tag": "ABX9TyPsDK89M+XAJFKmnIMkOVFp",
      "include_colab_link": true
    },
    "kernelspec": {
      "name": "python3",
      "display_name": "Python 3"
    }
  },
  "cells": [
    {
      "cell_type": "markdown",
      "metadata": {
        "id": "view-in-github",
        "colab_type": "text"
      },
      "source": [
        "<a href=\"https://colab.research.google.com/github/omkarpat/BotBuilder-Location/blob/master/Baseline_V2.ipynb\" target=\"_parent\"><img src=\"https://colab.research.google.com/assets/colab-badge.svg\" alt=\"Open In Colab\"/></a>"
      ]
    },
    {
      "cell_type": "code",
      "metadata": {
        "id": "8_sCm971u4dS",
        "colab_type": "code",
        "outputId": "00b12cb6-0a09-45f0-fcfe-00e037ffb3cc",
        "colab": {
          "base_uri": "https://localhost:8080/",
          "height": 143
        }
      },
      "source": [
        "# Colab settings/mount\n",
        "from google.colab import drive\n",
        "drive.mount('/content/gdrive')\n",
        "%cd gdrive/My\\ Drive/CSE\\ 240/Project/Data/spectrogram_images/"
      ],
      "execution_count": 0,
      "outputs": [
        {
          "output_type": "stream",
          "text": [
            "Go to this URL in a browser: https://accounts.google.com/o/oauth2/auth?client_id=947318989803-6bn6qk8qdgf4n4g3pfee6491hc0brc4i.apps.googleusercontent.com&redirect_uri=urn%3aietf%3awg%3aoauth%3a2.0%3aoob&response_type=code&scope=email%20https%3a%2f%2fwww.googleapis.com%2fauth%2fdocs.test%20https%3a%2f%2fwww.googleapis.com%2fauth%2fdrive%20https%3a%2f%2fwww.googleapis.com%2fauth%2fdrive.photos.readonly%20https%3a%2f%2fwww.googleapis.com%2fauth%2fpeopleapi.readonly\n",
            "\n",
            "Enter your authorization code:\n",
            "··········\n",
            "Mounted at /content/gdrive\n",
            "/content/gdrive/My Drive/CSE 240/Project/Data/spectrogram_images\n"
          ],
          "name": "stdout"
        }
      ]
    },
    {
      "cell_type": "code",
      "metadata": {
        "id": "eEFSwnTevLwd",
        "colab_type": "code",
        "colab": {}
      },
      "source": [
        "import os\n",
        "import numpy as np\n",
        "import pandas as pd\n",
        "\n",
        "from sklearn.model_selection import train_test_split\n",
        "\n",
        "from keras import optimizers\n",
        "from keras.models import Sequential\n",
        "from keras.layers import Conv2D, Dense, Flatten, MaxPooling2D, SeparableConv2D, MaxPooling3D, Conv3D, DepthwiseConv2D"
      ],
      "execution_count": 0,
      "outputs": []
    },
    {
      "cell_type": "code",
      "metadata": {
        "id": "HV0KFC7xvTHM",
        "colab_type": "code",
        "outputId": "58449abb-932b-48f1-d586-cc224386681a",
        "colab": {
          "base_uri": "https://localhost:8080/",
          "height": 228
        }
      },
      "source": [
        "base_path = \".\"\n",
        "concentration_data_array = None\n",
        "relaxed_data_array = None\n",
        "#relaxed_data_array = np.load(\"relaxed_array_updated_spectrograms_final.npy\")\n",
        "for filename in os.listdir(base_path):\n",
        "  if \"concentration_array_updated_spectrograms\" in filename and \"final\" not in filename:\n",
        "    print(filename)\n",
        "    concentration_data_array = np.concatenate((concentration_data_array, np.load(filename))) if concentration_data_array is not None else np.load(filename)\n",
        "  if \"relaxed_array_updated_spectrograms\" in filename:\n",
        "    print(filename)\n",
        "    relaxed_data_array = np.concatenate((relaxed_data_array, np.load(filename))) if relaxed_data_array is not None else np.load(filename)"
      ],
      "execution_count": 0,
      "outputs": [
        {
          "output_type": "stream",
          "text": [
            "concentration_array_updated_spectrograms_1.npy\n",
            "concentration_array_updated_spectrograms_2.npy\n",
            "concentration_array_updated_spectrograms_3.npy\n",
            "concentration_array_updated_spectrograms_4.npy\n",
            "concentration_array_updated_spectrograms_5.npy\n",
            "concentration_array_updated_spectrograms_6.npy\n",
            "relaxed_array_updated_spectrograms_1.npy\n",
            "relaxed_array_updated_spectrograms_2.npy\n",
            "relaxed_array_updated_spectrograms_3.npy\n",
            "relaxed_array_updated_spectrograms_4.npy\n",
            "relaxed_array_updated_spectrograms_5.npy\n",
            "relaxed_array_updated_spectrograms_final.npy\n"
          ],
          "name": "stdout"
        }
      ]
    },
    {
      "cell_type": "code",
      "metadata": {
        "id": "MND22X5Cxm2c",
        "colab_type": "code",
        "outputId": "f6f13532-252d-4996-db26-6bd21f64c39b",
        "colab": {
          "base_uri": "https://localhost:8080/",
          "height": 35
        }
      },
      "source": [
        "print(concentration_data_array.shape, relaxed_data_array.shape)"
      ],
      "execution_count": 0,
      "outputs": [
        {
          "output_type": "stream",
          "text": [
            "(2160, 29, 43, 42) (2124, 29, 43, 42)\n"
          ],
          "name": "stdout"
        }
      ]
    },
    {
      "cell_type": "code",
      "metadata": {
        "id": "6qrdEwRUymm0",
        "colab_type": "code",
        "colab": {}
      },
      "source": [
        "X = np.concatenate((relaxed_data_array, concentration_data_array))\n",
        "relaxed_data_array, concentration_data_array = None, None"
      ],
      "execution_count": 0,
      "outputs": []
    },
    {
      "cell_type": "code",
      "metadata": {
        "id": "JWjZwiYLypAV",
        "colab_type": "code",
        "outputId": "673bb4e6-6640-4bfc-fd0c-3750f4d2640f",
        "colab": {
          "base_uri": "https://localhost:8080/",
          "height": 35
        }
      },
      "source": [
        "Y = np.concatenate((np.zeros((2160,1)),np.ones((2124,1))))\n",
        "print(X.shape, Y.shape)"
      ],
      "execution_count": 0,
      "outputs": [
        {
          "output_type": "stream",
          "text": [
            "(4284, 29, 43, 42) (4284, 1)\n"
          ],
          "name": "stdout"
        }
      ]
    },
    {
      "cell_type": "code",
      "metadata": {
        "id": "ZaQQIZAGy2ej",
        "colab_type": "code",
        "outputId": "a12bdb0b-1b44-45f8-d0aa-9470639661bd",
        "colab": {
          "base_uri": "https://localhost:8080/",
          "height": 35
        }
      },
      "source": [
        "X_train, X_test, y_train, y_test = train_test_split(X, Y, test_size=0.15, random_state=42)\n",
        "X, Y = None, None\n",
        "X_train, X_valid, y_train, y_valid = train_test_split(X_train, y_train, test_size=0.15, random_state=42)\n",
        "print(X_train.shape, X_test.shape, X_valid.shape, y_train.shape, y_test.shape, y_valid.shape)"
      ],
      "execution_count": 0,
      "outputs": [
        {
          "output_type": "stream",
          "text": [
            "(3094, 29, 43, 42) (643, 29, 43, 42) (547, 29, 43, 42) (3094, 1) (643, 1) (547, 1)\n"
          ],
          "name": "stdout"
        }
      ]
    },
    {
      "cell_type": "code",
      "metadata": {
        "id": "sVt79b4tzKrq",
        "colab_type": "code",
        "outputId": "9151da3f-4801-4edf-84ec-9ba89c00139e",
        "colab": {
          "base_uri": "https://localhost:8080/",
          "height": 492
        }
      },
      "source": [
        "model2 = Sequential()\n",
        "model2.add(Conv2D(64, kernel_size=5, strides=(1,1), padding='valid', activation='relu', input_shape=(29, 43, 42)))\n",
        "model2.add(Conv2D(128, kernel_size=3, activation='relu'))\n",
        "model2.add(MaxPooling2D(pool_size=(2, 2)))\n",
        "model2.add(Flatten())\n",
        "model2.add(Dense(50, activation='relu'))\n",
        "model2.add(Dense(1, activation='sigmoid'))\n",
        "sgd = optimizers.SGD(lr=0.0000001, momentum=0.7)\n",
        "model2.compile(optimizer=sgd, loss='binary_crossentropy', metrics=['accuracy'])\n",
        "model2.fit(X_train, y_train, validation_data=(X_valid, y_valid), epochs=50, batch_size=32, shuffle=True)"
      ],
      "execution_count": 0,
      "outputs": [
        {
          "output_type": "stream",
          "text": [
            "Train on 3094 samples, validate on 547 samples\n",
            "Epoch 1/50\n",
            "3094/3094 [==============================] - 62s 20ms/step - loss: 7.1788 - acc: 0.5090 - val_loss: 6.1989 - val_acc: 0.5411\n",
            "Epoch 2/50\n",
            "3094/3094 [==============================] - 61s 20ms/step - loss: 6.1622 - acc: 0.5133 - val_loss: 5.3568 - val_acc: 0.5521\n",
            "Epoch 3/50\n",
            "3094/3094 [==============================] - 62s 20ms/step - loss: 6.0394 - acc: 0.5239 - val_loss: 5.1607 - val_acc: 0.5503\n",
            "Epoch 4/50\n",
            "3094/3094 [==============================] - 63s 20ms/step - loss: 5.7652 - acc: 0.5155 - val_loss: 5.3374 - val_acc: 0.5503\n",
            "Epoch 5/50\n",
            "3094/3094 [==============================] - 62s 20ms/step - loss: 5.7171 - acc: 0.5152 - val_loss: 5.2823 - val_acc: 0.5393\n",
            "Epoch 6/50\n",
            "3094/3094 [==============================] - 62s 20ms/step - loss: 5.3091 - acc: 0.5265 - val_loss: 6.1897 - val_acc: 0.5265\n",
            "Epoch 7/50\n",
            "3094/3094 [==============================] - 62s 20ms/step - loss: 5.2183 - acc: 0.5265 - val_loss: 4.9344 - val_acc: 0.5448\n",
            "Epoch 8/50\n",
            "3094/3094 [==============================] - 63s 20ms/step - loss: 4.9578 - acc: 0.5255 - val_loss: 4.6847 - val_acc: 0.5430\n",
            "Epoch 9/50\n",
            "3094/3094 [==============================] - 62s 20ms/step - loss: 4.8999 - acc: 0.5352 - val_loss: 4.5238 - val_acc: 0.5411\n",
            "Epoch 10/50\n",
            "3094/3094 [==============================] - 62s 20ms/step - loss: 4.8477 - acc: 0.5375 - val_loss: 4.8038 - val_acc: 0.5393\n",
            "Epoch 11/50\n",
            "3094/3094 [==============================] - 62s 20ms/step - loss: 4.7033 - acc: 0.5446 - val_loss: 4.6665 - val_acc: 0.5283\n",
            "Epoch 12/50\n",
            "3094/3094 [==============================] - 62s 20ms/step - loss: 4.6557 - acc: 0.5362 - val_loss: 5.3190 - val_acc: 0.5283\n",
            "Epoch 13/50\n",
            "3094/3094 [==============================] - 62s 20ms/step - loss: 4.5245 - acc: 0.5433 - val_loss: 4.8488 - val_acc: 0.5210\n",
            "Epoch 14/50\n",
            "3094/3094 [==============================] - 62s 20ms/step - loss: 4.4322 - acc: 0.5540 - val_loss: 4.4797 - val_acc: 0.5283\n",
            "Epoch 15/50\n",
            "3094/3094 [==============================] - 62s 20ms/step - loss: 4.3624 - acc: 0.5449 - val_loss: 4.4130 - val_acc: 0.5356\n",
            "Epoch 16/50\n",
            "3094/3094 [==============================] - 62s 20ms/step - loss: 4.4680 - acc: 0.5517 - val_loss: 4.4303 - val_acc: 0.5430\n",
            "Epoch 17/50\n",
            "3094/3094 [==============================] - 62s 20ms/step - loss: 4.2124 - acc: 0.5559 - val_loss: 4.5055 - val_acc: 0.5119\n",
            "Epoch 18/50\n",
            "3094/3094 [==============================] - 62s 20ms/step - loss: 4.2367 - acc: 0.5546 - val_loss: 4.3123 - val_acc: 0.5411\n",
            "Epoch 19/50\n",
            "3094/3094 [==============================] - 63s 20ms/step - loss: 4.2120 - acc: 0.5514 - val_loss: 4.2569 - val_acc: 0.5283\n",
            "Epoch 20/50\n",
            "3094/3094 [==============================] - 62s 20ms/step - loss: 4.0755 - acc: 0.5643 - val_loss: 4.0825 - val_acc: 0.5338\n",
            "Epoch 21/50\n",
            "3094/3094 [==============================] - 62s 20ms/step - loss: 3.9512 - acc: 0.5711 - val_loss: 4.1081 - val_acc: 0.5155\n",
            "Epoch 22/50\n",
            "3094/3094 [==============================] - 62s 20ms/step - loss: 3.9866 - acc: 0.5601 - val_loss: 4.2028 - val_acc: 0.5155\n",
            "Epoch 23/50\n",
            "3094/3094 [==============================] - 62s 20ms/step - loss: 4.0336 - acc: 0.5572 - val_loss: 4.1005 - val_acc: 0.5448\n",
            "Epoch 24/50\n",
            "3094/3094 [==============================] - 62s 20ms/step - loss: 3.7524 - acc: 0.5672 - val_loss: 4.0154 - val_acc: 0.5192\n",
            "Epoch 25/50\n",
            "3094/3094 [==============================] - 59s 19ms/step - loss: 3.6708 - acc: 0.5756 - val_loss: 4.3925 - val_acc: 0.5393\n",
            "Epoch 26/50\n",
            "3094/3094 [==============================] - 59s 19ms/step - loss: 3.7462 - acc: 0.5627 - val_loss: 4.0254 - val_acc: 0.5484\n",
            "Epoch 27/50\n",
            "3094/3094 [==============================] - 59s 19ms/step - loss: 3.7155 - acc: 0.5579 - val_loss: 4.0375 - val_acc: 0.5466\n",
            "Epoch 28/50\n",
            "3094/3094 [==============================] - 62s 20ms/step - loss: 3.5520 - acc: 0.5772 - val_loss: 4.0573 - val_acc: 0.5430\n",
            "Epoch 29/50\n",
            "3094/3094 [==============================] - 64s 21ms/step - loss: 3.5967 - acc: 0.5805 - val_loss: 4.0191 - val_acc: 0.5576\n",
            "Epoch 30/50\n",
            "3094/3094 [==============================] - 63s 20ms/step - loss: 3.4456 - acc: 0.5831 - val_loss: 3.9358 - val_acc: 0.5174\n",
            "Epoch 31/50\n",
            "3094/3094 [==============================] - 63s 20ms/step - loss: 3.4299 - acc: 0.5827 - val_loss: 4.5110 - val_acc: 0.5393\n",
            "Epoch 32/50\n",
            "3094/3094 [==============================] - 63s 20ms/step - loss: 3.4120 - acc: 0.5718 - val_loss: 3.9315 - val_acc: 0.5393\n",
            "Epoch 33/50\n",
            "3094/3094 [==============================] - 62s 20ms/step - loss: 3.3238 - acc: 0.5795 - val_loss: 3.8454 - val_acc: 0.5356\n",
            "Epoch 34/50\n",
            "3094/3094 [==============================] - 63s 20ms/step - loss: 3.3565 - acc: 0.5847 - val_loss: 3.7986 - val_acc: 0.5320\n",
            "Epoch 35/50\n",
            "3094/3094 [==============================] - 62s 20ms/step - loss: 3.1928 - acc: 0.5876 - val_loss: 3.7840 - val_acc: 0.5302\n",
            "Epoch 36/50\n",
            "3094/3094 [==============================] - 62s 20ms/step - loss: 3.2503 - acc: 0.5892 - val_loss: 4.1155 - val_acc: 0.5393\n",
            "Epoch 37/50\n",
            "3094/3094 [==============================] - 63s 20ms/step - loss: 3.1700 - acc: 0.5928 - val_loss: 3.7161 - val_acc: 0.5338\n",
            "Epoch 38/50\n",
            "3094/3094 [==============================] - 63s 20ms/step - loss: 3.0930 - acc: 0.5882 - val_loss: 4.1536 - val_acc: 0.5302\n",
            "Epoch 39/50\n",
            "3094/3094 [==============================] - 63s 20ms/step - loss: 3.0928 - acc: 0.5879 - val_loss: 3.8200 - val_acc: 0.5283\n",
            "Epoch 40/50\n",
            "3094/3094 [==============================] - 63s 20ms/step - loss: 3.0108 - acc: 0.5966 - val_loss: 3.6578 - val_acc: 0.5338\n",
            "Epoch 41/50\n",
            "3094/3094 [==============================] - 62s 20ms/step - loss: 2.9578 - acc: 0.6008 - val_loss: 3.7285 - val_acc: 0.5375\n",
            "Epoch 42/50\n",
            "3094/3094 [==============================] - 62s 20ms/step - loss: 2.9928 - acc: 0.5976 - val_loss: 3.6653 - val_acc: 0.5356\n",
            "Epoch 43/50\n",
            "3094/3094 [==============================] - 60s 19ms/step - loss: 2.9637 - acc: 0.6050 - val_loss: 3.6760 - val_acc: 0.5411\n",
            "Epoch 44/50\n",
            "3094/3094 [==============================] - 60s 19ms/step - loss: 2.9651 - acc: 0.5963 - val_loss: 3.7635 - val_acc: 0.5338\n",
            "Epoch 45/50\n",
            "3094/3094 [==============================] - 59s 19ms/step - loss: 2.8775 - acc: 0.6112 - val_loss: 3.7035 - val_acc: 0.5247\n",
            "Epoch 46/50\n",
            "3094/3094 [==============================] - 59s 19ms/step - loss: 2.8452 - acc: 0.6112 - val_loss: 3.5989 - val_acc: 0.5430\n",
            "Epoch 47/50\n",
            "3094/3094 [==============================] - 59s 19ms/step - loss: 2.7029 - acc: 0.6086 - val_loss: 3.6194 - val_acc: 0.5356\n",
            "Epoch 48/50\n",
            "3094/3094 [==============================] - 60s 19ms/step - loss: 2.7306 - acc: 0.6231 - val_loss: 3.6287 - val_acc: 0.5411\n",
            "Epoch 49/50\n",
            "3094/3094 [==============================] - 61s 20ms/step - loss: 2.7091 - acc: 0.6122 - val_loss: 3.6874 - val_acc: 0.5283\n",
            "Epoch 50/50\n",
            "3094/3094 [==============================] - 60s 19ms/step - loss: 2.6834 - acc: 0.6170 - val_loss: 3.6281 - val_acc: 0.5375\n"
          ],
          "name": "stdout"
        },
        {
          "output_type": "execute_result",
          "data": {
            "text/plain": [
              "<keras.callbacks.History at 0x7f692c3ac7f0>"
            ]
          },
          "metadata": {
            "tags": []
          },
          "execution_count": 40
        }
      ]
    },
    {
      "cell_type": "code",
      "metadata": {
        "id": "FKVNT-IgIyuB",
        "colab_type": "code",
        "colab": {
          "base_uri": "https://localhost:8080/",
          "height": 932
        },
        "outputId": "8b24e6f1-d018-442f-93f1-10f101c6ad22"
      },
      "source": [
        "model2.fit(X_train, y_train, validation_data=(X_valid, y_valid), epochs=25, batch_size=64, shuffle=True)"
      ],
      "execution_count": 44,
      "outputs": [
        {
          "output_type": "stream",
          "text": [
            "Train on 3094 samples, validate on 547 samples\n",
            "Epoch 1/25\n",
            "3094/3094 [==============================] - 55s 18ms/step - loss: 2.2543 - acc: 0.6341 - val_loss: 3.5949 - val_acc: 0.5375\n",
            "Epoch 2/25\n",
            "3094/3094 [==============================] - 57s 18ms/step - loss: 2.2722 - acc: 0.6399 - val_loss: 3.5704 - val_acc: 0.5430\n",
            "Epoch 3/25\n",
            "3094/3094 [==============================] - 57s 18ms/step - loss: 2.2573 - acc: 0.6412 - val_loss: 3.6393 - val_acc: 0.5356\n",
            "Epoch 4/25\n",
            "3094/3094 [==============================] - 57s 18ms/step - loss: 2.2804 - acc: 0.6416 - val_loss: 3.5848 - val_acc: 0.5375\n",
            "Epoch 5/25\n",
            "3094/3094 [==============================] - 58s 19ms/step - loss: 2.2530 - acc: 0.6435 - val_loss: 3.5613 - val_acc: 0.5411\n",
            "Epoch 6/25\n",
            "3094/3094 [==============================] - 57s 18ms/step - loss: 2.2756 - acc: 0.6435 - val_loss: 3.5689 - val_acc: 0.5393\n",
            "Epoch 7/25\n",
            "3094/3094 [==============================] - 56s 18ms/step - loss: 2.2742 - acc: 0.6390 - val_loss: 3.5629 - val_acc: 0.5430\n",
            "Epoch 8/25\n",
            "3094/3094 [==============================] - 56s 18ms/step - loss: 2.2445 - acc: 0.6500 - val_loss: 3.5692 - val_acc: 0.5411\n",
            "Epoch 9/25\n",
            "3094/3094 [==============================] - 56s 18ms/step - loss: 2.2604 - acc: 0.6393 - val_loss: 3.5661 - val_acc: 0.5393\n",
            "Epoch 10/25\n",
            "3094/3094 [==============================] - 57s 18ms/step - loss: 2.2392 - acc: 0.6500 - val_loss: 3.5586 - val_acc: 0.5411\n",
            "Epoch 11/25\n",
            "3094/3094 [==============================] - 57s 18ms/step - loss: 2.2325 - acc: 0.6409 - val_loss: 3.6754 - val_acc: 0.5356\n",
            "Epoch 12/25\n",
            "3094/3094 [==============================] - 56s 18ms/step - loss: 2.2381 - acc: 0.6393 - val_loss: 3.5522 - val_acc: 0.5393\n",
            "Epoch 13/25\n",
            "3094/3094 [==============================] - 56s 18ms/step - loss: 2.2263 - acc: 0.6412 - val_loss: 3.5548 - val_acc: 0.5411\n",
            "Epoch 14/25\n",
            "3094/3094 [==============================] - 56s 18ms/step - loss: 2.2217 - acc: 0.6435 - val_loss: 3.5828 - val_acc: 0.5375\n",
            "Epoch 15/25\n",
            "3094/3094 [==============================] - 56s 18ms/step - loss: 2.2156 - acc: 0.6529 - val_loss: 3.5490 - val_acc: 0.5411\n",
            "Epoch 16/25\n",
            "3094/3094 [==============================] - 57s 18ms/step - loss: 2.2163 - acc: 0.6503 - val_loss: 3.5556 - val_acc: 0.5411\n",
            "Epoch 17/25\n",
            "3094/3094 [==============================] - 56s 18ms/step - loss: 2.2111 - acc: 0.6451 - val_loss: 3.6077 - val_acc: 0.5265\n",
            "Epoch 18/25\n",
            "3094/3094 [==============================] - 56s 18ms/step - loss: 2.2121 - acc: 0.6493 - val_loss: 3.5620 - val_acc: 0.5430\n",
            "Epoch 19/25\n",
            "3094/3094 [==============================] - 58s 19ms/step - loss: 2.1969 - acc: 0.6503 - val_loss: 3.5476 - val_acc: 0.5430\n",
            "Epoch 20/25\n",
            "3094/3094 [==============================] - 56s 18ms/step - loss: 2.2134 - acc: 0.6513 - val_loss: 3.5786 - val_acc: 0.5393\n",
            "Epoch 21/25\n",
            "3094/3094 [==============================] - 60s 19ms/step - loss: 2.1932 - acc: 0.6480 - val_loss: 3.5645 - val_acc: 0.5411\n",
            "Epoch 22/25\n",
            "3094/3094 [==============================] - 59s 19ms/step - loss: 2.1878 - acc: 0.6484 - val_loss: 3.5488 - val_acc: 0.5430\n",
            "Epoch 23/25\n",
            "3094/3094 [==============================] - 59s 19ms/step - loss: 2.1783 - acc: 0.6538 - val_loss: 3.5442 - val_acc: 0.5375\n",
            "Epoch 24/25\n",
            "3094/3094 [==============================] - 59s 19ms/step - loss: 2.1851 - acc: 0.6390 - val_loss: 3.5757 - val_acc: 0.5356\n",
            "Epoch 25/25\n",
            "3094/3094 [==============================] - 61s 20ms/step - loss: 2.1846 - acc: 0.6519 - val_loss: 3.5580 - val_acc: 0.5411\n"
          ],
          "name": "stdout"
        },
        {
          "output_type": "execute_result",
          "data": {
            "text/plain": [
              "<keras.callbacks.History at 0x7f692c3f3438>"
            ]
          },
          "metadata": {
            "tags": []
          },
          "execution_count": 44
        }
      ]
    },
    {
      "cell_type": "code",
      "metadata": {
        "id": "IfxN2cX3ItMI",
        "colab_type": "code",
        "colab": {
          "base_uri": "https://localhost:8080/",
          "height": 52
        },
        "outputId": "90d63cd4-341d-4cc8-c2e5-a49b7ad33fab"
      },
      "source": [
        "metrics = model2.evaluate(X_test,y_test)\n",
        "print(metrics)"
      ],
      "execution_count": 45,
      "outputs": [
        {
          "output_type": "stream",
          "text": [
            "643/643 [==============================] - 4s 6ms/step\n",
            "[3.35662171462461, 0.5365474339962747]\n"
          ],
          "name": "stdout"
        }
      ]
    }
  ]
}